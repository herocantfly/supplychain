{
 "cells": [
  {
   "cell_type": "code",
   "execution_count": 14,
   "metadata": {},
   "outputs": [],
   "source": [
    "import pandas as pd\n",
    "import numpy as np\n",
    "from numpy import *\n",
    "import matplotlib.pyplot as plt\n",
    "\n",
    "# 从硬盘读取数据进入内存\n",
    "data = pd.read_csv(r'C:\\Users\\LindaHK\\Desktop\\DATA.csv')\n",
    "data1=data.drop(['Y1'],axis=1)*100\n",
    "y=['X1','X2','X3','X4','X5','X6','X7','X8','X9','X10','X11','Y1']\n",
    "data1['X1']=data1['X1'].apply(int)\n",
    "data1['X2']=data1['X2'].apply(int)\n",
    "data1['X3']=data1['X3'].apply(int)\n",
    "data1['X4']=data1['X4'].apply(int)\n",
    "data1['X5']=data1['X5'].apply(int)\n",
    "data1['X6']=data1['X6'].apply(int)\n",
    "data1['X7']=data1['X7'].apply(int)\n",
    "data1['X8']=data1['X8'].apply(int)\n",
    "data1['X9']=data1['X9'].apply(int)\n",
    "data1['X10']=data1['X10'].apply(int)\n",
    "data1['X11']=data1['X11'].apply(int)"
   ]
  },
  {
   "cell_type": "code",
   "execution_count": 15,
   "metadata": {},
   "outputs": [
    {
     "ename": "SyntaxError",
     "evalue": "EOL while scanning string literal (<ipython-input-15-7283eec1ecd2>, line 38)",
     "output_type": "error",
     "traceback": [
      "\u001b[1;36m  File \u001b[1;32m\"<ipython-input-15-7283eec1ecd2>\"\u001b[1;36m, line \u001b[1;32m38\u001b[0m\n\u001b[1;33m    path=r'C:\\Users\\LindaHK\\Desktop\\manufacture\\'\u001b[0m\n\u001b[1;37m                                                 ^\u001b[0m\n\u001b[1;31mSyntaxError\u001b[0m\u001b[1;31m:\u001b[0m EOL while scanning string literal\n"
     ]
    }
   ],
   "source": [
    "def GRA_ONE(gray, m=0):\n",
    "    # 读取为df格式\n",
    "    gray = gray - gray.min()/ gray.max() - gray.min()\n",
    "    # 标准化\n",
    "    std= gray.iloc[:, m]  # 为标准要素\n",
    "    ce = gray.iloc[:, 0:]  # 为比较要素\n",
    "    n, m = ce.shape[0], ce.shape[1]  # 计算行列\n",
    "\n",
    "    # 与标准要素比较，相减\n",
    "    a = np.zeros([m, n])\n",
    "    for i in range(m):\n",
    "        for j in range(n):\n",
    "            a[i, j] = abs(ce.iloc[j, i] - std[j])\n",
    "\n",
    "    # 取出矩阵中最大值与最小值\n",
    "    c, d = np.amax(a), np.amin(a)\n",
    "\n",
    "    # 计算值\n",
    "    result = np.zeros([m, n])\n",
    "    for i in range(m):\n",
    "        for j in range(n):\n",
    "            result[i, j] = (d + 0.5 * c) / (a[i, j] + 0.5 * c)\n",
    "\n",
    "    # 求均值，得到灰色关联值,并返回\n",
    "    return pd.DataFrame([np.mean(result[i, :]) for i in range(m)])\n",
    "\n",
    "\n",
    "def GRA(DataFrame):\n",
    "    list_columns = [\n",
    "        str(s) for s in range(len(DataFrame.columns)) if s not in [None]\n",
    "    ]\n",
    "    df_local = pd.DataFrame(columns=list_columns)\n",
    "    for i in range(len(DataFrame.columns)):\n",
    "        df_local.iloc[:, i] = GRA_ONE(DataFrame, m=i)[0]\n",
    "    return df_local\n",
    "\n",
    "data_gra = GRA_ONE(data1)\n",
    "path=r'C:\\Users\\LindaHK\\Desktop\\manufacture\\'\n",
    "data_gra.to_csv(path+\"GRA.csv\") \n",
    "print(data_gra)"
   ]
  },
  {
   "cell_type": "code",
   "execution_count": 37,
   "metadata": {},
   "outputs": [
    {
     "name": "stdout",
     "output_type": "stream",
     "text": [
      "       weight\n",
      "X1   0.106342\n",
      "X2   0.045583\n",
      "X3   0.064655\n",
      "X4   0.074397\n",
      "X5   0.111378\n",
      "X6   0.097434\n",
      "X7   0.221428\n",
      "X8   0.034383\n",
      "X9   0.120531\n",
      "X10  0.068688\n",
      "X11  0.055181\n",
      "运行完成!\n"
     ]
    }
   ],
   "source": [
    "import pandas as pd\n",
    "import numpy as np\n",
    "import math\n",
    "from numpy import array\n",
    " \n",
    "# 1读取数据\n",
    "df = pd.read_csv(r'C:\\Users\\LindaHK\\Desktop\\DATA.csv')\n",
    "df1=df.drop('Y1', axis=1)*100\n",
    "# 2数据预处理 ,去除空值的记录\n",
    "#df.dropna()\n",
    " \n",
    "#定义熵值法函数\n",
    "def cal_weight(x):\n",
    "    '''熵值法计算变量的权重'''\n",
    "    # 标准化\n",
    "    x = x.apply(lambda x: ((x - np.min(x)) / (np.max(x) - np.min(x))))\n",
    " \n",
    "    # 求k\n",
    "    rows = x.index.size  # 行\n",
    "    cols = x.columns.size  # 列\n",
    "    k = 1.0 / math.log(rows)\n",
    " \n",
    "    lnf = [[None] * cols for i in range(rows)]\n",
    " \n",
    "    # 矩阵计算--\n",
    "    # 信息熵\n",
    "    # p=array(p)\n",
    "    x = array(x)\n",
    "    lnf = [[None] * cols for i in range(rows)]\n",
    "    lnf = array(lnf)\n",
    "    for i in range(0, rows):\n",
    "        for j in range(0, cols):\n",
    "            if x[i][j] == 0:\n",
    "                lnfij = 0.0\n",
    "            else:\n",
    "                p = x[i][j] / x.sum(axis=0)[j]\n",
    "                lnfij = math.log(p) * p * (-k)\n",
    "            lnf[i][j] = lnfij\n",
    "    lnf = pd.DataFrame(lnf)\n",
    "    E = lnf\n",
    " \n",
    "    # 计算冗余度\n",
    "    d = 1 - E.sum(axis=0)\n",
    "    # 计算各指标的权重\n",
    "    w = [[None] * 1 for i in range(cols)]\n",
    "    for j in range(0, cols):\n",
    "        wj = d[j] / sum(d)\n",
    "        w[j] = wj\n",
    "        # 计算各样本的综合得分,用最原始的数据\n",
    "    \n",
    "    w = pd.DataFrame(w)\n",
    "    return w\n",
    " \n",
    " \n",
    "if __name__ == '__main__':\n",
    "    # 计算df各字段的权重\n",
    "    w = cal_weight(df1)  # 调用cal_weight\n",
    "    w.index = df1.columns\n",
    "    w.columns = ['weight']\n",
    "    print(w)\n",
    "    print('运行完成!')"
   ]
  },
  {
   "cell_type": "code",
   "execution_count": 38,
   "metadata": {},
   "outputs": [],
   "source": [
    "w['weight']=w['weight'].apply(float)"
   ]
  },
  {
   "cell_type": "code",
   "execution_count": 39,
   "metadata": {},
   "outputs": [],
   "source": [
    "w2 = pd.DataFrame(w.values.T, index=w.columns, columns=w.index)#转置"
   ]
  },
  {
   "cell_type": "code",
   "execution_count": 40,
   "metadata": {},
   "outputs": [
    {
     "data": {
      "text/html": [
       "<div>\n",
       "<style scoped>\n",
       "    .dataframe tbody tr th:only-of-type {\n",
       "        vertical-align: middle;\n",
       "    }\n",
       "\n",
       "    .dataframe tbody tr th {\n",
       "        vertical-align: top;\n",
       "    }\n",
       "\n",
       "    .dataframe thead th {\n",
       "        text-align: right;\n",
       "    }\n",
       "</style>\n",
       "<table border=\"1\" class=\"dataframe\">\n",
       "  <thead>\n",
       "    <tr style=\"text-align: right;\">\n",
       "      <th></th>\n",
       "      <th>X1</th>\n",
       "      <th>X2</th>\n",
       "      <th>X3</th>\n",
       "      <th>X4</th>\n",
       "      <th>X5</th>\n",
       "      <th>X6</th>\n",
       "      <th>X7</th>\n",
       "      <th>X8</th>\n",
       "      <th>X9</th>\n",
       "      <th>X10</th>\n",
       "      <th>X11</th>\n",
       "    </tr>\n",
       "  </thead>\n",
       "  <tbody>\n",
       "    <tr>\n",
       "      <th>weight</th>\n",
       "      <td>0.106342</td>\n",
       "      <td>0.045583</td>\n",
       "      <td>0.064655</td>\n",
       "      <td>0.074397</td>\n",
       "      <td>0.111378</td>\n",
       "      <td>0.097434</td>\n",
       "      <td>0.221428</td>\n",
       "      <td>0.034383</td>\n",
       "      <td>0.120531</td>\n",
       "      <td>0.068688</td>\n",
       "      <td>0.055181</td>\n",
       "    </tr>\n",
       "  </tbody>\n",
       "</table>\n",
       "</div>"
      ],
      "text/plain": [
       "              X1        X2        X3        X4        X5        X6        X7  \\\n",
       "weight  0.106342  0.045583  0.064655  0.074397  0.111378  0.097434  0.221428   \n",
       "\n",
       "              X8        X9       X10       X11  \n",
       "weight  0.034383  0.120531  0.068688  0.055181  "
      ]
     },
     "execution_count": 40,
     "metadata": {},
     "output_type": "execute_result"
    }
   ],
   "source": [
    "w2"
   ]
  },
  {
   "cell_type": "code",
   "execution_count": 41,
   "metadata": {},
   "outputs": [],
   "source": [
    "w.to_excel(path+\"GRA.xlsx\")"
   ]
  },
  {
   "cell_type": "code",
   "execution_count": 42,
   "metadata": {},
   "outputs": [],
   "source": [
    "w=np.array(w)"
   ]
  },
  {
   "cell_type": "code",
   "execution_count": 43,
   "metadata": {},
   "outputs": [],
   "source": [
    "data_gra=np.array(data_gra)"
   ]
  },
  {
   "cell_type": "code",
   "execution_count": 44,
   "metadata": {},
   "outputs": [
    {
     "data": {
      "text/plain": [
       "(11, 1)"
      ]
     },
     "execution_count": 44,
     "metadata": {},
     "output_type": "execute_result"
    }
   ],
   "source": [
    "w.shape"
   ]
  },
  {
   "cell_type": "code",
   "execution_count": 45,
   "metadata": {},
   "outputs": [
    {
     "data": {
      "text/html": [
       "<div>\n",
       "<style scoped>\n",
       "    .dataframe tbody tr th:only-of-type {\n",
       "        vertical-align: middle;\n",
       "    }\n",
       "\n",
       "    .dataframe tbody tr th {\n",
       "        vertical-align: top;\n",
       "    }\n",
       "\n",
       "    .dataframe thead th {\n",
       "        text-align: right;\n",
       "    }\n",
       "</style>\n",
       "<table border=\"1\" class=\"dataframe\">\n",
       "  <thead>\n",
       "    <tr style=\"text-align: right;\">\n",
       "      <th></th>\n",
       "      <th>0</th>\n",
       "    </tr>\n",
       "  </thead>\n",
       "  <tbody>\n",
       "    <tr>\n",
       "      <th>0</th>\n",
       "      <td>1.000000</td>\n",
       "    </tr>\n",
       "    <tr>\n",
       "      <th>1</th>\n",
       "      <td>0.997494</td>\n",
       "    </tr>\n",
       "    <tr>\n",
       "      <th>2</th>\n",
       "      <td>0.997864</td>\n",
       "    </tr>\n",
       "    <tr>\n",
       "      <th>3</th>\n",
       "      <td>0.858294</td>\n",
       "    </tr>\n",
       "    <tr>\n",
       "      <th>4</th>\n",
       "      <td>0.915103</td>\n",
       "    </tr>\n",
       "    <tr>\n",
       "      <th>5</th>\n",
       "      <td>0.847215</td>\n",
       "    </tr>\n",
       "    <tr>\n",
       "      <th>6</th>\n",
       "      <td>0.936303</td>\n",
       "    </tr>\n",
       "    <tr>\n",
       "      <th>7</th>\n",
       "      <td>0.984055</td>\n",
       "    </tr>\n",
       "    <tr>\n",
       "      <th>8</th>\n",
       "      <td>0.970661</td>\n",
       "    </tr>\n",
       "    <tr>\n",
       "      <th>9</th>\n",
       "      <td>0.997103</td>\n",
       "    </tr>\n",
       "    <tr>\n",
       "      <th>10</th>\n",
       "      <td>0.486555</td>\n",
       "    </tr>\n",
       "  </tbody>\n",
       "</table>\n",
       "</div>"
      ],
      "text/plain": [
       "           0\n",
       "0   1.000000\n",
       "1   0.997494\n",
       "2   0.997864\n",
       "3   0.858294\n",
       "4   0.915103\n",
       "5   0.847215\n",
       "6   0.936303\n",
       "7   0.984055\n",
       "8   0.970661\n",
       "9   0.997103\n",
       "10  0.486555"
      ]
     },
     "execution_count": 45,
     "metadata": {},
     "output_type": "execute_result"
    }
   ],
   "source": [
    "pd.DataFrame(data_gra)"
   ]
  },
  {
   "cell_type": "code",
   "execution_count": 26,
   "metadata": {},
   "outputs": [
    {
     "data": {
      "image/png": "[encoded data removed]",
      "text/plain": [
       "<Figure size 1008x756 with 2 Axes>"
      ]
     },
     "metadata": {
      "needs_background": "light"
     },
     "output_type": "display_data"
    }
   ],
   "source": [
    "# 灰色关联结果矩阵可视化\n",
    "import seaborn as sns\n",
    "\n",
    "\n",
    "def ShowGRAHeatMap(DataFrame):\n",
    "    colormap = plt.cm.RdBu\n",
    "    f, ax = plt.subplots(figsize=(14, 10.5))\n",
    "    ax.set_title('GRA HeatMap')\n",
    "    sns.heatmap(DataFrame.astype(float),\n",
    "                cmap=colormap,\n",
    "                ax=ax,\n",
    "                annot=True,\n",
    "                yticklabels=14,\n",
    "                xticklabels=10)\n",
    "    plt.show()\n",
    "\n",
    "\n",
    "ShowGRAHeatMap(data_gra)\n"
   ]
  },
  {
   "cell_type": "code",
   "execution_count": 46,
   "metadata": {},
   "outputs": [],
   "source": [
    "import pandas as pd\n",
    "import numpy as np\n",
    "from numpy import *\n",
    "import matplotlib.pyplot as plt\n",
    "\n",
    "# 从硬盘读取数据进入内存\n",
    "data = pd.read_csv(r'C:\\Users\\LindaHK\\Desktop\\DATA.csv')\n",
    "data1=data.drop(['Y1'],axis=1)*100\n",
    "y=['X1','X2','X3','X4','X5','X6','X7','X8','X9','X10','X11','Y1']\n",
    "data1['X1']=data1['X1'].apply(int)\n",
    "data1['X2']=data1['X2'].apply(int)\n",
    "data1['X3']=data1['X3'].apply(int)\n",
    "data1['X4']=data1['X4'].apply(int)\n",
    "data1['X5']=data1['X5'].apply(int)\n",
    "data1['X6']=data1['X6'].apply(int)\n",
    "data1['X7']=data1['X7'].apply(int)\n",
    "data1['X8']=data1['X8'].apply(int)\n",
    "data1['X9']=data1['X9'].apply(int)\n",
    "data1['X10']=data1['X10'].apply(int)\n",
    "data1['X11']=data1['X11'].apply(int)"
   ]
  },
  {
   "cell_type": "code",
   "execution_count": 47,
   "metadata": {},
   "outputs": [],
   "source": [
    "# 无量纲化\n",
    "def dimensionlessProcessing(df):\n",
    "    newDataFrame = pd.DataFrame(index=df.index)\n",
    "    columns = df.columns.tolist()\n",
    "    for c in columns:\n",
    "        d = df[c]\n",
    "        MAX = d.max()\n",
    "        MIN = d.min()\n",
    "        MEAN = d.mean()\n",
    "        newDataFrame[c] = ((d - MEAN) / (MAX - MIN)).tolist()\n",
    "    return newDataFrame\n",
    "\n",
    "def GRA_ONE(gray, m=0):\n",
    "    # 读取为df格式\n",
    "    gray = dimensionlessProcessing(gray)\n",
    "    # 标准化\n",
    "    std = gray.iloc[:, m]  # 为标准要素\n",
    "    gray.drop(str(m),axis=1,inplace=True)\n",
    "    ce = gray.iloc[:, 0:]  # 为比较要素\n",
    "    shape_n, shape_m = ce.shape[0], ce.shape[1]  # 计算行列\n",
    "\n",
    "    # 与标准要素比较，相减\n",
    "    a = zeros([shape_m, shape_n])\n",
    "    for i in range(shape_m):\n",
    "        for j in range(shape_n):\n",
    "            a[i, j] = abs(ce.iloc[j, i] - std[j])\n",
    "\n",
    "    # 取出矩阵中最大值与最小值\n",
    "    c, d = amax(a), amin(a)\n",
    "\n",
    "    # 计算值\n",
    "    result = zeros([shape_m, shape_n])\n",
    "    for i in range(shape_m):\n",
    "        for j in range(shape_n):\n",
    "            result[i, j] = (d + 0.5 * c) / (a[i, j] + 0.5 * c)\n",
    "\n",
    "    # 求均值，得到灰色关联值,并返回\n",
    "    result_list = [mean(result[i, :]) for i in range(shape_m)]\n",
    "    result_list.insert(m,1)\n",
    "    return pd.DataFrame(result_list)\n",
    "\n",
    "\n",
    "def GRA(DataFrame):\n",
    "    df = DataFrame.copy()\n",
    "    list_columns = [\n",
    "        str(s) for s in range(len(df.columns)) if s not in [None]\n",
    "    ]\n",
    "    df_local = pd.DataFrame(columns=list_columns)\n",
    "    df.columns=list_columns\n",
    "    for i in range(len(df.columns)):\n",
    "        df_local.iloc[:, i] = GRA_ONE(df, m=i)[0]\n",
    "    return df_local\n"
   ]
  },
  {
   "cell_type": "code",
   "execution_count": 49,
   "metadata": {},
   "outputs": [
    {
     "data": {
      "image/png": "[encoded data removed]",
      "text/plain": [
       "<Figure size 1008x1008 with 2 Axes>"
      ]
     },
     "metadata": {
      "needs_background": "light"
     },
     "output_type": "display_data"
    }
   ],
   "source": [
    "# 灰色关联结果矩阵可视化\n",
    "# 灰色关联结果矩阵可视化\n",
    "import seaborn as sns\n",
    "\n",
    "def ShowGRAHeatMap(DataFrame):\n",
    "    colormap = plt.cm.RdBu\n",
    "    ylabels = DataFrame.columns.values.tolist()\n",
    "    f, ax = plt.subplots(figsize=(14, 14))\n",
    "    ax.set_title('GRA HeatMap')\n",
    "    \n",
    "    # 设置展示一半，如果不需要注释掉mask即可\n",
    "    mask = np.zeros_like(DataFrame)\n",
    "    mask[np.triu_indices_from(mask)] = True\n",
    "    \n",
    "    with sns.axes_style(\"white\"):\n",
    "        sns.heatmap(DataFrame,\n",
    "                    cmap=\"YlGnBu\",\n",
    "                    annot=True,\n",
    "                    mask=mask,\n",
    "                   )\n",
    "    plt.show()\n",
    "    \n",
    "data_gra = GRA(data1)\n",
    "ShowGRAHeatMap(data_wine_gra)\n"
   ]
  },
  {
   "cell_type": "code",
   "execution_count": null,
   "metadata": {},
   "outputs": [],
   "source": []
  }
 ],
 "metadata": {
  "kernelspec": {
   "display_name": "Python 3",
   "language": "python",
   "name": "python3"
  },
  "language_info": {
   "codemirror_mode": {
    "name": "ipython",
    "version": 3
   },
   "file_extension": ".py",
   "mimetype": "text/x-python",
   "name": "python",
   "nbconvert_exporter": "python",
   "pygments_lexer": "ipython3",
   "version": "3.7.0"
  }
 },
 "nbformat": 4,
 "nbformat_minor": 2
}
