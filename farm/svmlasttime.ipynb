{
 "cells": [
  {
   "cell_type": "code",
   "execution_count": 7,
   "metadata": {},
   "outputs": [],
   "source": [
    "import pandas as pd\n",
    "from sklearn.model_selection import train_test_split\n",
    "from sklearn.svm import SVC\n",
    "#import mglearn.datasets\n",
    "import matplotlib.pyplot as plt\n",
    "#forge数据集是一个二维二分类数据集\n",
    "data=pd.read_csv(r'C:\\Users\\LindaHK\\Desktop\\farm\\farmdata.csv').dropna()"
   ]
  },
  {
   "cell_type": "code",
   "execution_count": 29,
   "metadata": {},
   "outputs": [
    {
     "name": "stdout",
     "output_type": "stream",
     "text": [
      "       X1     X2     X3      X4     X5     X6    X7      X8    X9    X10  \\\n",
      "0    2.51  13.14   8.39    3.70   5.05  16.53  0.84   17.04  1.11  56.48   \n",
      "1   42.62   1.50   0.71  113.17   4.93 -20.47  0.25    3.32  0.38  69.05   \n",
      "2    0.48   0.77   2.98    1.56   0.81 -29.71  5.85   92.44  9.37   6.76   \n",
      "3   28.12  16.92   3.08   26.00   7.17  33.26  0.97   38.56  2.09  39.52   \n",
      "4    0.18  18.65   6.69    0.96   0.71  44.74  0.51    0.18  0.76  89.70   \n",
      "5    1.95   2.65   2.04   14.37   3.23  29.92  0.26    3.64  0.66  58.33   \n",
      "6    1.93   2.65  12.19   37.33   3.94  34.20  2.47   39.07  3.50  18.77   \n",
      "7    2.33  -0.68  -0.81    3.87   2.89  -6.39  1.11    8.87  1.55  28.34   \n",
      "8    1.05 -48.11 -17.79   10.66   3.82  22.62  0.37    3.55  0.60  75.21   \n",
      "9    2.19  20.74  12.17    9.13   5.68  -4.70  2.83   38.58  3.46  23.81   \n",
      "10   7.75  15.66  14.34    4.05   3.04  20.14  1.09   12.52  1.58  40.86   \n",
      "11  35.05  11.43   7.57   13.80   3.94  26.10  0.17   13.44  0.37  62.13   \n",
      "12   0.98   1.25   0.56    8.15   6.50  19.68  0.52   -1.67  0.85  54.50   \n",
      "13   1.21   5.11   1.56    6.70   3.29  62.19  0.49    5.95  1.02  59.66   \n",
      "14   0.90  15.09  16.58    3.34   4.14  -0.01  0.97   31.43  1.21  31.36   \n",
      "15  11.19   8.81   0.92   15.19  14.67  -3.00  1.11   -2.17  1.75  53.22   \n",
      "16   0.26   5.51   5.46    7.92   0.45  28.24  0.13    0.04  0.82  67.19   \n",
      "19   2.05  13.22   7.72    5.06   6.05  36.79  3.72  233.08  4.68  18.67   \n",
      "20   1.20   9.23   4.26    5.24   1.85 -17.96  1.29    7.73  2.28  40.05   \n",
      "22   0.42   8.12   3.78    8.66  54.19  14.46  0.15    4.97  0.16  85.56   \n",
      "\n",
      "        X11    X12    X13   X14   X15  \n",
      "0    580.91  21.80  10.38  1.80  0.70  \n",
      "1    189.44  21.80  10.38  1.80  0.70  \n",
      "2    259.05   6.66   3.69  1.08  0.89  \n",
      "3    493.71  10.97   7.77  3.90  2.28  \n",
      "4     67.47   0.84   3.44  1.16  0.98  \n",
      "5    138.54  11.36   8.34  1.13  0.73  \n",
      "6    262.60  16.74  12.60  1.63  1.16  \n",
      "7    144.84  32.10   4.98  0.56  0.29  \n",
      "8     76.46  15.00   8.16  1.14  1.02  \n",
      "9    422.77  18.79   8.67  1.66  0.98  \n",
      "10   163.31   4.31   2.08  1.29  1.00  \n",
      "11   125.66  10.13   2.41  1.00  0.68  \n",
      "12   109.19  10.98  17.30  3.16  2.69  \n",
      "13   139.88  10.98  17.30  3.16  2.69  \n",
      "14   317.09   6.20   2.50  1.61  0.64  \n",
      "15   601.91  16.77   6.54  1.05  0.83  \n",
      "16    80.83  13.53  24.53  3.04  2.58  \n",
      "19   829.28  21.99  12.30  1.55  1.16  \n",
      "20  1163.34   1.92   5.06  0.71  0.31  \n",
      "22    62.03  21.94  14.27  2.16  1.87   0     1\n",
      "1     1\n",
      "2     1\n",
      "3     1\n",
      "4     0\n",
      "5     1\n",
      "6     0\n",
      "7     1\n",
      "8     0\n",
      "9     1\n",
      "10    1\n",
      "11    1\n",
      "12    0\n",
      "13    0\n",
      "14    0\n",
      "15    0\n",
      "16    0\n",
      "19    1\n",
      "20    0\n",
      "22    0\n",
      "Name: Y, dtype: int64\n"
     ]
    }
   ],
   "source": [
    "import numpy as np\n",
    "X,y=data.iloc[:,:-1],data.iloc[:,-1]\n",
    "print(X,y)\n",
    "X_train,X_test,y_train,y_test=train_test_split(X,y,test_size=0.2, random_state=33)\n",
    "kernel=['linear', 'poly', 'rbf', 'sigmoid']\n",
    "# 创建一个空的 DataFrame\n",
    "result = pd.DataFrame(columns=['kernel', 'C', 'gamma', 'aacut','accutr','score'])\n",
    "for k in kernel:\n",
    "    for c in range(1,21,1):\n",
    "        for g in range(100,200,1):\n",
    "            g=g/10000\n",
    "            svm=SVC(kernel=k,C=c,gamma=g,probability=True).fit(X_train,y_train)\n",
    "            y_t=svm.predict(X_test).sum()\n",
    "            y_tt=y_test.count()\n",
    "            accut=y_t/y_tt\n",
    "            y_tr=svm.predict(X_train).sum()\n",
    "            y_ttr=y_train.count()\n",
    "            accutr=y_tr/y_ttr\n",
    "            score=svm.score(X_test,y_test)\n",
    "            df= pd.DataFrame(np.array([k,c,g,accut,accutr,score]).reshape(1,6), columns=['kernel', 'C', 'gamma', 'aacut','accutr','score'])\n",
    "            result=result.append(df, ignore_index=True)\n",
    "            \n",
    " \n",
    "            #print(svm.predict(X_test))\n",
    "            #输出分类概率\n",
    "            #print(svm.predict_proba(X_test))\n",
    "            #print(svm.score(X_test,y_test))"
   ]
  },
  {
   "cell_type": "code",
   "execution_count": 10,
   "metadata": {},
   "outputs": [
    {
     "data": {
      "text/plain": [
       "1"
      ]
     },
     "execution_count": 10,
     "metadata": {},
     "output_type": "execute_result"
    }
   ],
   "source": [
    "y_test.sum()"
   ]
  },
  {
   "cell_type": "code",
   "execution_count": 30,
   "metadata": {},
   "outputs": [],
   "source": [
    "result.to_csv(r'C:\\Users\\LindaHK\\Desktop\\farmresuly.csv')"
   ]
  },
  {
   "cell_type": "code",
   "execution_count": 33,
   "metadata": {},
   "outputs": [
    {
     "name": "stdout",
     "output_type": "stream",
     "text": [
      "       X1     X2     X3      X4     X5     X6    X7      X8    X9    X10  \\\n",
      "0    2.51  13.14   8.39    3.70   5.05  16.53  0.84   17.04  1.11  56.48   \n",
      "1   42.62   1.50   0.71  113.17   4.93 -20.47  0.25    3.32  0.38  69.05   \n",
      "2    0.48   0.77   2.98    1.56   0.81 -29.71  5.85   92.44  9.37   6.76   \n",
      "3   28.12  16.92   3.08   26.00   7.17  33.26  0.97   38.56  2.09  39.52   \n",
      "4    0.18  18.65   6.69    0.96   0.71  44.74  0.51    0.18  0.76  89.70   \n",
      "5    1.95   2.65   2.04   14.37   3.23  29.92  0.26    3.64  0.66  58.33   \n",
      "6    1.93   2.65  12.19   37.33   3.94  34.20  2.47   39.07  3.50  18.77   \n",
      "7    2.33  -0.68  -0.81    3.87   2.89  -6.39  1.11    8.87  1.55  28.34   \n",
      "8    1.05 -48.11 -17.79   10.66   3.82  22.62  0.37    3.55  0.60  75.21   \n",
      "9    2.19  20.74  12.17    9.13   5.68  -4.70  2.83   38.58  3.46  23.81   \n",
      "10   7.75  15.66  14.34    4.05   3.04  20.14  1.09   12.52  1.58  40.86   \n",
      "11  35.05  11.43   7.57   13.80   3.94  26.10  0.17   13.44  0.37  62.13   \n",
      "12   0.98   1.25   0.56    8.15   6.50  19.68  0.52   -1.67  0.85  54.50   \n",
      "13   1.21   5.11   1.56    6.70   3.29  62.19  0.49    5.95  1.02  59.66   \n",
      "14   0.90  15.09  16.58    3.34   4.14  -0.01  0.97   31.43  1.21  31.36   \n",
      "15  11.19   8.81   0.92   15.19  14.67  -3.00  1.11   -2.17  1.75  53.22   \n",
      "16   0.26   5.51   5.46    7.92   0.45  28.24  0.13    0.04  0.82  67.19   \n",
      "19   2.05  13.22   7.72    5.06   6.05  36.79  3.72  233.08  4.68  18.67   \n",
      "20   1.20   9.23   4.26    5.24   1.85 -17.96  1.29    7.73  2.28  40.05   \n",
      "22   0.42   8.12   3.78    8.66  54.19  14.46  0.15    4.97  0.16  85.56   \n",
      "\n",
      "        X11    X12    X13   X14   X15  \n",
      "0    580.91  21.80  10.38  1.80  0.70  \n",
      "1    189.44  21.80  10.38  1.80  0.70  \n",
      "2    259.05   6.66   3.69  1.08  0.89  \n",
      "3    493.71  10.97   7.77  3.90  2.28  \n",
      "4     67.47   0.84   3.44  1.16  0.98  \n",
      "5    138.54  11.36   8.34  1.13  0.73  \n",
      "6    262.60  16.74  12.60  1.63  1.16  \n",
      "7    144.84  32.10   4.98  0.56  0.29  \n",
      "8     76.46  15.00   8.16  1.14  1.02  \n",
      "9    422.77  18.79   8.67  1.66  0.98  \n",
      "10   163.31   4.31   2.08  1.29  1.00  \n",
      "11   125.66  10.13   2.41  1.00  0.68  \n",
      "12   109.19  10.98  17.30  3.16  2.69  \n",
      "13   139.88  10.98  17.30  3.16  2.69  \n",
      "14   317.09   6.20   2.50  1.61  0.64  \n",
      "15   601.91  16.77   6.54  1.05  0.83  \n",
      "16    80.83  13.53  24.53  3.04  2.58  \n",
      "19   829.28  21.99  12.30  1.55  1.16  \n",
      "20  1163.34   1.92   5.06  0.71  0.31  \n",
      "22    62.03  21.94  14.27  2.16  1.87   0     1\n",
      "1     1\n",
      "2     1\n",
      "3     1\n",
      "4     0\n",
      "5     1\n",
      "6     0\n",
      "7     1\n",
      "8     0\n",
      "9     1\n",
      "10    1\n",
      "11    1\n",
      "12    0\n",
      "13    0\n",
      "14    0\n",
      "15    0\n",
      "16    0\n",
      "19    1\n",
      "20    0\n",
      "22    0\n",
      "Name: Y, dtype: int64\n",
      "[1 1 1 1]\n",
      "[[0.42498154 0.57501846]\n",
      " [0.42498154 0.57501846]\n",
      " [0.42498163 0.57501837]\n",
      " [0.42498154 0.57501846]]\n",
      "0.25\n"
     ]
    }
   ],
   "source": [
    "import numpy as np\n",
    "X,y=data.iloc[:,:-1],data.iloc[:,-1]\n",
    "print(X,y)\n",
    "X_train,X_test,y_train,y_test=train_test_split(X,y,test_size=0.2, random_state=33)\n",
    "#kernel=['linear', 'poly', 'rbf', 'sigmoid']\n",
    "svm=SVC(kernel='rbf',C=1,gamma=0.01,probability=True).fit(X_train,y_train)\n",
    "print(svm.predict(X_test))\n",
    "#输出分类概率\n",
    "print(svm.predict_proba(X_test))\n",
    "print(svm.score(X_test,y_test))"
   ]
  },
  {
   "cell_type": "code",
   "execution_count": 34,
   "metadata": {},
   "outputs": [
    {
     "data": {
      "text/plain": [
       "19    1\n",
       "8     0\n",
       "15    0\n",
       "20    0\n",
       "Name: Y, dtype: int64"
      ]
     },
     "execution_count": 34,
     "metadata": {},
     "output_type": "execute_result"
    }
   ],
   "source": [
    "y_test"
   ]
  },
  {
   "cell_type": "code",
   "execution_count": null,
   "metadata": {},
   "outputs": [],
   "source": []
  }
 ],
 "metadata": {
  "kernelspec": {
   "display_name": "Python 3",
   "language": "python",
   "name": "python3"
  },
  "language_info": {
   "codemirror_mode": {
    "name": "ipython",
    "version": 3
   },
   "file_extension": ".py",
   "mimetype": "text/x-python",
   "name": "python",
   "nbconvert_exporter": "python",
   "pygments_lexer": "ipython3",
   "version": "3.7.0"
  }
 },
 "nbformat": 4,
 "nbformat_minor": 2
}
